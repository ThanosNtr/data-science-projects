{
 "cells": [
  {
   "cell_type": "code",
   "execution_count": 1,
   "id": "27809b11",
   "metadata": {},
   "outputs": [],
   "source": [
    "import pandas as pd\n",
    "import numpy as np \n",
    "import matplotlib.pyplot as plt\n",
    "import torch\n",
    "import torch.nn as nn"
   ]
  },
  {
   "cell_type": "code",
   "execution_count": 2,
   "id": "78dcbd10",
   "metadata": {},
   "outputs": [],
   "source": [
    "data=pd.read_csv('AM.csv')"
   ]
  },
  {
   "cell_type": "code",
   "execution_count": 3,
   "id": "c4a8caf6",
   "metadata": {},
   "outputs": [
    {
     "data": {
      "text/html": [
       "<div>\n",
       "<style scoped>\n",
       "    .dataframe tbody tr th:only-of-type {\n",
       "        vertical-align: middle;\n",
       "    }\n",
       "\n",
       "    .dataframe tbody tr th {\n",
       "        vertical-align: top;\n",
       "    }\n",
       "\n",
       "    .dataframe thead th {\n",
       "        text-align: right;\n",
       "    }\n",
       "</style>\n",
       "<table border=\"1\" class=\"dataframe\">\n",
       "  <thead>\n",
       "    <tr style=\"text-align: right;\">\n",
       "      <th></th>\n",
       "      <th>Date</th>\n",
       "      <th>Open</th>\n",
       "      <th>High</th>\n",
       "      <th>Low</th>\n",
       "      <th>Close</th>\n",
       "      <th>Adj Close</th>\n",
       "      <th>Volume</th>\n",
       "    </tr>\n",
       "  </thead>\n",
       "  <tbody>\n",
       "    <tr>\n",
       "      <th>0</th>\n",
       "      <td>1997-05-15</td>\n",
       "      <td>0.121875</td>\n",
       "      <td>0.125000</td>\n",
       "      <td>0.096354</td>\n",
       "      <td>0.097917</td>\n",
       "      <td>0.097917</td>\n",
       "      <td>1443120000</td>\n",
       "    </tr>\n",
       "    <tr>\n",
       "      <th>1</th>\n",
       "      <td>1997-05-16</td>\n",
       "      <td>0.098438</td>\n",
       "      <td>0.098958</td>\n",
       "      <td>0.085417</td>\n",
       "      <td>0.086458</td>\n",
       "      <td>0.086458</td>\n",
       "      <td>294000000</td>\n",
       "    </tr>\n",
       "    <tr>\n",
       "      <th>2</th>\n",
       "      <td>1997-05-19</td>\n",
       "      <td>0.088021</td>\n",
       "      <td>0.088542</td>\n",
       "      <td>0.081250</td>\n",
       "      <td>0.085417</td>\n",
       "      <td>0.085417</td>\n",
       "      <td>122136000</td>\n",
       "    </tr>\n",
       "    <tr>\n",
       "      <th>3</th>\n",
       "      <td>1997-05-20</td>\n",
       "      <td>0.086458</td>\n",
       "      <td>0.087500</td>\n",
       "      <td>0.081771</td>\n",
       "      <td>0.081771</td>\n",
       "      <td>0.081771</td>\n",
       "      <td>109344000</td>\n",
       "    </tr>\n",
       "    <tr>\n",
       "      <th>4</th>\n",
       "      <td>1997-05-21</td>\n",
       "      <td>0.081771</td>\n",
       "      <td>0.082292</td>\n",
       "      <td>0.068750</td>\n",
       "      <td>0.071354</td>\n",
       "      <td>0.071354</td>\n",
       "      <td>377064000</td>\n",
       "    </tr>\n",
       "    <tr>\n",
       "      <th>...</th>\n",
       "      <td>...</td>\n",
       "      <td>...</td>\n",
       "      <td>...</td>\n",
       "      <td>...</td>\n",
       "      <td>...</td>\n",
       "      <td>...</td>\n",
       "      <td>...</td>\n",
       "    </tr>\n",
       "    <tr>\n",
       "      <th>6511</th>\n",
       "      <td>2023-03-30</td>\n",
       "      <td>101.550003</td>\n",
       "      <td>103.040001</td>\n",
       "      <td>101.010002</td>\n",
       "      <td>102.000000</td>\n",
       "      <td>102.000000</td>\n",
       "      <td>53633400</td>\n",
       "    </tr>\n",
       "    <tr>\n",
       "      <th>6512</th>\n",
       "      <td>2023-03-31</td>\n",
       "      <td>102.160004</td>\n",
       "      <td>103.489998</td>\n",
       "      <td>101.949997</td>\n",
       "      <td>103.290001</td>\n",
       "      <td>103.290001</td>\n",
       "      <td>56704300</td>\n",
       "    </tr>\n",
       "    <tr>\n",
       "      <th>6513</th>\n",
       "      <td>2023-04-03</td>\n",
       "      <td>102.300003</td>\n",
       "      <td>103.290001</td>\n",
       "      <td>101.430000</td>\n",
       "      <td>102.410004</td>\n",
       "      <td>102.410004</td>\n",
       "      <td>41135700</td>\n",
       "    </tr>\n",
       "    <tr>\n",
       "      <th>6514</th>\n",
       "      <td>2023-04-04</td>\n",
       "      <td>102.750000</td>\n",
       "      <td>104.199997</td>\n",
       "      <td>102.110001</td>\n",
       "      <td>103.949997</td>\n",
       "      <td>103.949997</td>\n",
       "      <td>48662500</td>\n",
       "    </tr>\n",
       "    <tr>\n",
       "      <th>6515</th>\n",
       "      <td>2023-04-05</td>\n",
       "      <td>103.910004</td>\n",
       "      <td>103.910004</td>\n",
       "      <td>100.750000</td>\n",
       "      <td>101.099998</td>\n",
       "      <td>101.099998</td>\n",
       "      <td>45103000</td>\n",
       "    </tr>\n",
       "  </tbody>\n",
       "</table>\n",
       "<p>6516 rows × 7 columns</p>\n",
       "</div>"
      ],
      "text/plain": [
       "            Date        Open        High         Low       Close   Adj Close  \\\n",
       "0     1997-05-15    0.121875    0.125000    0.096354    0.097917    0.097917   \n",
       "1     1997-05-16    0.098438    0.098958    0.085417    0.086458    0.086458   \n",
       "2     1997-05-19    0.088021    0.088542    0.081250    0.085417    0.085417   \n",
       "3     1997-05-20    0.086458    0.087500    0.081771    0.081771    0.081771   \n",
       "4     1997-05-21    0.081771    0.082292    0.068750    0.071354    0.071354   \n",
       "...          ...         ...         ...         ...         ...         ...   \n",
       "6511  2023-03-30  101.550003  103.040001  101.010002  102.000000  102.000000   \n",
       "6512  2023-03-31  102.160004  103.489998  101.949997  103.290001  103.290001   \n",
       "6513  2023-04-03  102.300003  103.290001  101.430000  102.410004  102.410004   \n",
       "6514  2023-04-04  102.750000  104.199997  102.110001  103.949997  103.949997   \n",
       "6515  2023-04-05  103.910004  103.910004  100.750000  101.099998  101.099998   \n",
       "\n",
       "          Volume  \n",
       "0     1443120000  \n",
       "1      294000000  \n",
       "2      122136000  \n",
       "3      109344000  \n",
       "4      377064000  \n",
       "...          ...  \n",
       "6511    53633400  \n",
       "6512    56704300  \n",
       "6513    41135700  \n",
       "6514    48662500  \n",
       "6515    45103000  \n",
       "\n",
       "[6516 rows x 7 columns]"
      ]
     },
     "execution_count": 3,
     "metadata": {},
     "output_type": "execute_result"
    }
   ],
   "source": [
    "data"
   ]
  },
  {
   "cell_type": "code",
   "execution_count": 4,
   "id": "a8e237c2",
   "metadata": {},
   "outputs": [
    {
     "data": {
      "text/plain": [
       "(6516, 7)"
      ]
     },
     "execution_count": 4,
     "metadata": {},
     "output_type": "execute_result"
    }
   ],
   "source": [
    "data.shape\n"
   ]
  },
  {
   "cell_type": "code",
   "execution_count": 5,
   "id": "7ff6bb86",
   "metadata": {},
   "outputs": [
    {
     "name": "stdout",
     "output_type": "stream",
     "text": [
      "<class 'pandas.core.frame.DataFrame'>\n",
      "RangeIndex: 6516 entries, 0 to 6515\n",
      "Data columns (total 7 columns):\n",
      " #   Column     Non-Null Count  Dtype  \n",
      "---  ------     --------------  -----  \n",
      " 0   Date       6516 non-null   object \n",
      " 1   Open       6516 non-null   float64\n",
      " 2   High       6516 non-null   float64\n",
      " 3   Low        6516 non-null   float64\n",
      " 4   Close      6516 non-null   float64\n",
      " 5   Adj Close  6516 non-null   float64\n",
      " 6   Volume     6516 non-null   int64  \n",
      "dtypes: float64(5), int64(1), object(1)\n",
      "memory usage: 356.5+ KB\n"
     ]
    }
   ],
   "source": [
    "data.info()"
   ]
  },
  {
   "cell_type": "code",
   "execution_count": 6,
   "id": "66fb21b9",
   "metadata": {},
   "outputs": [
    {
     "data": {
      "text/plain": [
       "<bound method NDFrame.describe of             Date        Open        High         Low       Close   Adj Close  \\\n",
       "0     1997-05-15    0.121875    0.125000    0.096354    0.097917    0.097917   \n",
       "1     1997-05-16    0.098438    0.098958    0.085417    0.086458    0.086458   \n",
       "2     1997-05-19    0.088021    0.088542    0.081250    0.085417    0.085417   \n",
       "3     1997-05-20    0.086458    0.087500    0.081771    0.081771    0.081771   \n",
       "4     1997-05-21    0.081771    0.082292    0.068750    0.071354    0.071354   \n",
       "...          ...         ...         ...         ...         ...         ...   \n",
       "6511  2023-03-30  101.550003  103.040001  101.010002  102.000000  102.000000   \n",
       "6512  2023-03-31  102.160004  103.489998  101.949997  103.290001  103.290001   \n",
       "6513  2023-04-03  102.300003  103.290001  101.430000  102.410004  102.410004   \n",
       "6514  2023-04-04  102.750000  104.199997  102.110001  103.949997  103.949997   \n",
       "6515  2023-04-05  103.910004  103.910004  100.750000  101.099998  101.099998   \n",
       "\n",
       "          Volume  \n",
       "0     1443120000  \n",
       "1      294000000  \n",
       "2      122136000  \n",
       "3      109344000  \n",
       "4      377064000  \n",
       "...          ...  \n",
       "6511    53633400  \n",
       "6512    56704300  \n",
       "6513    41135700  \n",
       "6514    48662500  \n",
       "6515    45103000  \n",
       "\n",
       "[6516 rows x 7 columns]>"
      ]
     },
     "execution_count": 6,
     "metadata": {},
     "output_type": "execute_result"
    }
   ],
   "source": [
    "data.describe"
   ]
  },
  {
   "cell_type": "code",
   "execution_count": 7,
   "id": "befba2d3",
   "metadata": {},
   "outputs": [],
   "source": [
    "data=data[['Date', 'Close']]"
   ]
  },
  {
   "cell_type": "code",
   "execution_count": 8,
   "id": "10455d0a",
   "metadata": {},
   "outputs": [
    {
     "data": {
      "text/html": [
       "<div>\n",
       "<style scoped>\n",
       "    .dataframe tbody tr th:only-of-type {\n",
       "        vertical-align: middle;\n",
       "    }\n",
       "\n",
       "    .dataframe tbody tr th {\n",
       "        vertical-align: top;\n",
       "    }\n",
       "\n",
       "    .dataframe thead th {\n",
       "        text-align: right;\n",
       "    }\n",
       "</style>\n",
       "<table border=\"1\" class=\"dataframe\">\n",
       "  <thead>\n",
       "    <tr style=\"text-align: right;\">\n",
       "      <th></th>\n",
       "      <th>Date</th>\n",
       "      <th>Close</th>\n",
       "    </tr>\n",
       "  </thead>\n",
       "  <tbody>\n",
       "    <tr>\n",
       "      <th>0</th>\n",
       "      <td>1997-05-15</td>\n",
       "      <td>0.097917</td>\n",
       "    </tr>\n",
       "    <tr>\n",
       "      <th>1</th>\n",
       "      <td>1997-05-16</td>\n",
       "      <td>0.086458</td>\n",
       "    </tr>\n",
       "    <tr>\n",
       "      <th>2</th>\n",
       "      <td>1997-05-19</td>\n",
       "      <td>0.085417</td>\n",
       "    </tr>\n",
       "    <tr>\n",
       "      <th>3</th>\n",
       "      <td>1997-05-20</td>\n",
       "      <td>0.081771</td>\n",
       "    </tr>\n",
       "    <tr>\n",
       "      <th>4</th>\n",
       "      <td>1997-05-21</td>\n",
       "      <td>0.071354</td>\n",
       "    </tr>\n",
       "  </tbody>\n",
       "</table>\n",
       "</div>"
      ],
      "text/plain": [
       "         Date     Close\n",
       "0  1997-05-15  0.097917\n",
       "1  1997-05-16  0.086458\n",
       "2  1997-05-19  0.085417\n",
       "3  1997-05-20  0.081771\n",
       "4  1997-05-21  0.071354"
      ]
     },
     "execution_count": 8,
     "metadata": {},
     "output_type": "execute_result"
    }
   ],
   "source": [
    "data.head()"
   ]
  },
  {
   "cell_type": "code",
   "execution_count": 9,
   "id": "466dc614",
   "metadata": {},
   "outputs": [
    {
     "data": {
      "text/plain": [
       "'cpu'"
      ]
     },
     "execution_count": 9,
     "metadata": {},
     "output_type": "execute_result"
    }
   ],
   "source": [
    "device = 'cuda:0' if torch.cuda.is_available() else 'cpu'\n",
    "device"
   ]
  },
  {
   "cell_type": "code",
   "execution_count": 10,
   "id": "ac1c9fca",
   "metadata": {},
   "outputs": [
    {
     "name": "stderr",
     "output_type": "stream",
     "text": [
      "C:\\Users\\thano\\AppData\\Local\\Temp\\ipykernel_6768\\2068800234.py:1: SettingWithCopyWarning: \n",
      "A value is trying to be set on a copy of a slice from a DataFrame.\n",
      "Try using .loc[row_indexer,col_indexer] = value instead\n",
      "\n",
      "See the caveats in the documentation: https://pandas.pydata.org/pandas-docs/stable/user_guide/indexing.html#returning-a-view-versus-a-copy\n",
      "  data['Date']=pd.to_datetime(data['Date'])\n"
     ]
    },
    {
     "data": {
      "text/plain": [
       "[<matplotlib.lines.Line2D at 0x248920089a0>]"
      ]
     },
     "execution_count": 10,
     "metadata": {},
     "output_type": "execute_result"
    },
    {
     "data": {
      "image/png": "[encoded data removed]",
      "text/plain": [
       "<Figure size 640x480 with 1 Axes>"
      ]
     },
     "metadata": {},
     "output_type": "display_data"
    }
   ],
   "source": [
    "data['Date']=pd.to_datetime(data['Date'])\n",
    "plt.plot(data['Date'], data['Close'])"
   ]
  },
  {
   "cell_type": "code",
   "execution_count": 11,
   "id": "f526ef4b",
   "metadata": {},
   "outputs": [],
   "source": [
    "from copy import deepcopy as dc"
   ]
  },
  {
   "cell_type": "code",
   "execution_count": 12,
   "id": "9874f161",
   "metadata": {},
   "outputs": [
    {
     "data": {
      "text/html": [
       "<div>\n",
       "<style scoped>\n",
       "    .dataframe tbody tr th:only-of-type {\n",
       "        vertical-align: middle;\n",
       "    }\n",
       "\n",
       "    .dataframe tbody tr th {\n",
       "        vertical-align: top;\n",
       "    }\n",
       "\n",
       "    .dataframe thead th {\n",
       "        text-align: right;\n",
       "    }\n",
       "</style>\n",
       "<table border=\"1\" class=\"dataframe\">\n",
       "  <thead>\n",
       "    <tr style=\"text-align: right;\">\n",
       "      <th></th>\n",
       "      <th>Close</th>\n",
       "      <th>Close(t-1)</th>\n",
       "      <th>Close(t-2)</th>\n",
       "      <th>Close(t-3)</th>\n",
       "      <th>Close(t-4)</th>\n",
       "      <th>Close(t-5)</th>\n",
       "      <th>Close(t-6)</th>\n",
       "      <th>Close(t-7)</th>\n",
       "    </tr>\n",
       "    <tr>\n",
       "      <th>Date</th>\n",
       "      <th></th>\n",
       "      <th></th>\n",
       "      <th></th>\n",
       "      <th></th>\n",
       "      <th></th>\n",
       "      <th></th>\n",
       "      <th></th>\n",
       "      <th></th>\n",
       "    </tr>\n",
       "  </thead>\n",
       "  <tbody>\n",
       "    <tr>\n",
       "      <th>1997-05-27</th>\n",
       "      <td>0.079167</td>\n",
       "      <td>0.075000</td>\n",
       "      <td>0.069792</td>\n",
       "      <td>0.071354</td>\n",
       "      <td>0.081771</td>\n",
       "      <td>0.085417</td>\n",
       "      <td>0.086458</td>\n",
       "      <td>0.097917</td>\n",
       "    </tr>\n",
       "    <tr>\n",
       "      <th>1997-05-28</th>\n",
       "      <td>0.076563</td>\n",
       "      <td>0.079167</td>\n",
       "      <td>0.075000</td>\n",
       "      <td>0.069792</td>\n",
       "      <td>0.071354</td>\n",
       "      <td>0.081771</td>\n",
       "      <td>0.085417</td>\n",
       "      <td>0.086458</td>\n",
       "    </tr>\n",
       "    <tr>\n",
       "      <th>1997-05-29</th>\n",
       "      <td>0.075260</td>\n",
       "      <td>0.076563</td>\n",
       "      <td>0.079167</td>\n",
       "      <td>0.075000</td>\n",
       "      <td>0.069792</td>\n",
       "      <td>0.071354</td>\n",
       "      <td>0.081771</td>\n",
       "      <td>0.085417</td>\n",
       "    </tr>\n",
       "    <tr>\n",
       "      <th>1997-05-30</th>\n",
       "      <td>0.075000</td>\n",
       "      <td>0.075260</td>\n",
       "      <td>0.076563</td>\n",
       "      <td>0.079167</td>\n",
       "      <td>0.075000</td>\n",
       "      <td>0.069792</td>\n",
       "      <td>0.071354</td>\n",
       "      <td>0.081771</td>\n",
       "    </tr>\n",
       "    <tr>\n",
       "      <th>1997-06-02</th>\n",
       "      <td>0.075521</td>\n",
       "      <td>0.075000</td>\n",
       "      <td>0.075260</td>\n",
       "      <td>0.076563</td>\n",
       "      <td>0.079167</td>\n",
       "      <td>0.075000</td>\n",
       "      <td>0.069792</td>\n",
       "      <td>0.071354</td>\n",
       "    </tr>\n",
       "    <tr>\n",
       "      <th>...</th>\n",
       "      <td>...</td>\n",
       "      <td>...</td>\n",
       "      <td>...</td>\n",
       "      <td>...</td>\n",
       "      <td>...</td>\n",
       "      <td>...</td>\n",
       "      <td>...</td>\n",
       "      <td>...</td>\n",
       "    </tr>\n",
       "    <tr>\n",
       "      <th>2023-03-30</th>\n",
       "      <td>102.000000</td>\n",
       "      <td>100.250000</td>\n",
       "      <td>97.239998</td>\n",
       "      <td>98.040001</td>\n",
       "      <td>98.129997</td>\n",
       "      <td>98.709999</td>\n",
       "      <td>98.699997</td>\n",
       "      <td>100.610001</td>\n",
       "    </tr>\n",
       "    <tr>\n",
       "      <th>2023-03-31</th>\n",
       "      <td>103.290001</td>\n",
       "      <td>102.000000</td>\n",
       "      <td>100.250000</td>\n",
       "      <td>97.239998</td>\n",
       "      <td>98.040001</td>\n",
       "      <td>98.129997</td>\n",
       "      <td>98.709999</td>\n",
       "      <td>98.699997</td>\n",
       "    </tr>\n",
       "    <tr>\n",
       "      <th>2023-04-03</th>\n",
       "      <td>102.410004</td>\n",
       "      <td>103.290001</td>\n",
       "      <td>102.000000</td>\n",
       "      <td>100.250000</td>\n",
       "      <td>97.239998</td>\n",
       "      <td>98.040001</td>\n",
       "      <td>98.129997</td>\n",
       "      <td>98.709999</td>\n",
       "    </tr>\n",
       "    <tr>\n",
       "      <th>2023-04-04</th>\n",
       "      <td>103.949997</td>\n",
       "      <td>102.410004</td>\n",
       "      <td>103.290001</td>\n",
       "      <td>102.000000</td>\n",
       "      <td>100.250000</td>\n",
       "      <td>97.239998</td>\n",
       "      <td>98.040001</td>\n",
       "      <td>98.129997</td>\n",
       "    </tr>\n",
       "    <tr>\n",
       "      <th>2023-04-05</th>\n",
       "      <td>101.099998</td>\n",
       "      <td>103.949997</td>\n",
       "      <td>102.410004</td>\n",
       "      <td>103.290001</td>\n",
       "      <td>102.000000</td>\n",
       "      <td>100.250000</td>\n",
       "      <td>97.239998</td>\n",
       "      <td>98.040001</td>\n",
       "    </tr>\n",
       "  </tbody>\n",
       "</table>\n",
       "<p>6509 rows × 8 columns</p>\n",
       "</div>"
      ],
      "text/plain": [
       "                 Close  Close(t-1)  Close(t-2)  Close(t-3)  Close(t-4)  \\\n",
       "Date                                                                     \n",
       "1997-05-27    0.079167    0.075000    0.069792    0.071354    0.081771   \n",
       "1997-05-28    0.076563    0.079167    0.075000    0.069792    0.071354   \n",
       "1997-05-29    0.075260    0.076563    0.079167    0.075000    0.069792   \n",
       "1997-05-30    0.075000    0.075260    0.076563    0.079167    0.075000   \n",
       "1997-06-02    0.075521    0.075000    0.075260    0.076563    0.079167   \n",
       "...                ...         ...         ...         ...         ...   \n",
       "2023-03-30  102.000000  100.250000   97.239998   98.040001   98.129997   \n",
       "2023-03-31  103.290001  102.000000  100.250000   97.239998   98.040001   \n",
       "2023-04-03  102.410004  103.290001  102.000000  100.250000   97.239998   \n",
       "2023-04-04  103.949997  102.410004  103.290001  102.000000  100.250000   \n",
       "2023-04-05  101.099998  103.949997  102.410004  103.290001  102.000000   \n",
       "\n",
       "            Close(t-5)  Close(t-6)  Close(t-7)  \n",
       "Date                                            \n",
       "1997-05-27    0.085417    0.086458    0.097917  \n",
       "1997-05-28    0.081771    0.085417    0.086458  \n",
       "1997-05-29    0.071354    0.081771    0.085417  \n",
       "1997-05-30    0.069792    0.071354    0.081771  \n",
       "1997-06-02    0.075000    0.069792    0.071354  \n",
       "...                ...         ...         ...  \n",
       "2023-03-30   98.709999   98.699997  100.610001  \n",
       "2023-03-31   98.129997   98.709999   98.699997  \n",
       "2023-04-03   98.040001   98.129997   98.709999  \n",
       "2023-04-04   97.239998   98.040001   98.129997  \n",
       "2023-04-05  100.250000   97.239998   98.040001  \n",
       "\n",
       "[6509 rows x 8 columns]"
      ]
     },
     "execution_count": 12,
     "metadata": {},
     "output_type": "execute_result"
    }
   ],
   "source": [
    "def prepare_dataframe_for_lstm(df, n_steps):\n",
    "    df=dc(df)\n",
    "    df['Date']=pd.to_datetime(df['Date'])\n",
    "    \n",
    "    df.set_index('Date', inplace=True)\n",
    "    \n",
    "    for i in range(1, n_steps+1):\n",
    "        df[f'Close(t-{i})']=df['Close'].shift(i)\n",
    "        \n",
    "    df.dropna(inplace=True)\n",
    "    \n",
    "    return df\n",
    "lookback=7\n",
    "shifted_df=prepare_dataframe_for_lstm(data,lookback)\n",
    "shifted_df"
   ]
  },
  {
   "cell_type": "code",
   "execution_count": 13,
   "id": "0186402e",
   "metadata": {},
   "outputs": [
    {
     "data": {
      "text/plain": [
       "array([[7.91670000e-02, 7.50000000e-02, 6.97920000e-02, ...,\n",
       "        8.54170000e-02, 8.64580000e-02, 9.79170000e-02],\n",
       "       [7.65630000e-02, 7.91670000e-02, 7.50000000e-02, ...,\n",
       "        8.17710000e-02, 8.54170000e-02, 8.64580000e-02],\n",
       "       [7.52600000e-02, 7.65630000e-02, 7.91670000e-02, ...,\n",
       "        7.13540000e-02, 8.17710000e-02, 8.54170000e-02],\n",
       "       ...,\n",
       "       [1.02410004e+02, 1.03290001e+02, 1.02000000e+02, ...,\n",
       "        9.80400010e+01, 9.81299970e+01, 9.87099990e+01],\n",
       "       [1.03949997e+02, 1.02410004e+02, 1.03290001e+02, ...,\n",
       "        9.72399980e+01, 9.80400010e+01, 9.81299970e+01],\n",
       "       [1.01099998e+02, 1.03949997e+02, 1.02410004e+02, ...,\n",
       "        1.00250000e+02, 9.72399980e+01, 9.80400010e+01]])"
      ]
     },
     "execution_count": 13,
     "metadata": {},
     "output_type": "execute_result"
    }
   ],
   "source": [
    "shifted_df_as_np = shifted_df.to_numpy()\n",
    "shifted_df_as_np"
   ]
  },
  {
   "cell_type": "code",
   "execution_count": 14,
   "id": "c1386937",
   "metadata": {},
   "outputs": [
    {
     "data": {
      "text/plain": [
       "array([[-0.99991063, -0.99995531, -1.        , ..., -0.99983244,\n",
       "        -0.99982128, -0.99969839],\n",
       "       [-0.99993855, -0.99991063, -0.99994415, ..., -0.99987154,\n",
       "        -0.99983244, -0.99982128],\n",
       "       [-0.99995253, -0.99993855, -0.99989946, ..., -0.99998325,\n",
       "        -0.99987154, -0.99983244],\n",
       "       ...,\n",
       "       [ 0.09747299,  0.10690997,  0.09308121, ...,  0.0506149 ,\n",
       "         0.05158   ,  0.05779984],\n",
       "       [ 0.11398769,  0.09747299,  0.10691495, ...,  0.04203581,\n",
       "         0.0506149 ,  0.05158   ],\n",
       "       [ 0.08342464,  0.11398769,  0.09747802, ...,  0.07431453,\n",
       "         0.04203581,  0.0506149 ]])"
      ]
     },
     "execution_count": 14,
     "metadata": {},
     "output_type": "execute_result"
    }
   ],
   "source": [
    "from sklearn.preprocessing import MinMaxScaler\n",
    "scaler=MinMaxScaler(feature_range=(-1,1))\n",
    "shifted_df_as_np=scaler.fit_transform(shifted_df_as_np)\n",
    "shifted_df_as_np"
   ]
  },
  {
   "cell_type": "code",
   "execution_count": 15,
   "id": "71c2ec88",
   "metadata": {},
   "outputs": [
    {
     "data": {
      "text/plain": [
       "((6509, 7), (6509,))"
      ]
     },
     "execution_count": 15,
     "metadata": {},
     "output_type": "execute_result"
    }
   ],
   "source": [
    "x=shifted_df_as_np[:,1:]\n",
    "y=shifted_df_as_np[:,0]\n",
    "x.shape, y.shape"
   ]
  },
  {
   "cell_type": "code",
   "execution_count": 16,
   "id": "54a2c36c",
   "metadata": {},
   "outputs": [
    {
     "data": {
      "text/plain": [
       "array([[-0.99969839, -0.99982128, -0.99983244, ..., -0.99998325,\n",
       "        -1.        , -0.99995531],\n",
       "       [-0.99982128, -0.99983244, -0.99987154, ..., -1.        ,\n",
       "        -0.99994415, -0.99991063],\n",
       "       [-0.99983244, -0.99987154, -0.99998325, ..., -0.99994415,\n",
       "        -0.99989946, -0.99993855],\n",
       "       ...,\n",
       "       [ 0.05779984,  0.05158   ,  0.0506149 , ...,  0.07431453,\n",
       "         0.09308121,  0.10690997],\n",
       "       [ 0.05158   ,  0.0506149 ,  0.04203581, ...,  0.09308121,\n",
       "         0.10691495,  0.09747299],\n",
       "       [ 0.0506149 ,  0.04203581,  0.07431453, ...,  0.10691495,\n",
       "         0.09747802,  0.11398769]])"
      ]
     },
     "execution_count": 16,
     "metadata": {},
     "output_type": "execute_result"
    }
   ],
   "source": [
    "x=dc(np.flip(x,axis=1)) #we do this to sart counting from day t-7 to onwards\n",
    "x"
   ]
  },
  {
   "cell_type": "code",
   "execution_count": 17,
   "id": "50a004d2",
   "metadata": {},
   "outputs": [
    {
     "data": {
      "text/plain": [
       "6183"
      ]
     },
     "execution_count": 17,
     "metadata": {},
     "output_type": "execute_result"
    }
   ],
   "source": [
    "split_index=int(len(x)*0.95)\n",
    "split_index"
   ]
  },
  {
   "cell_type": "code",
   "execution_count": 18,
   "id": "12d7f554",
   "metadata": {},
   "outputs": [
    {
     "data": {
      "text/plain": [
       "((6183, 7), (326, 7), (326,), (6183,))"
      ]
     },
     "execution_count": 18,
     "metadata": {},
     "output_type": "execute_result"
    }
   ],
   "source": [
    "x_train=x[:split_index]\n",
    "x_test=x[split_index:]\n",
    "y_train=y[:split_index]\n",
    "y_test=y[split_index:]\n",
    "\n",
    "x_train.shape, x_test.shape, y_test.shape, y_train.shape"
   ]
  },
  {
   "cell_type": "code",
   "execution_count": 19,
   "id": "8d38fd53",
   "metadata": {},
   "outputs": [
    {
     "data": {
      "text/plain": [
       "((6183, 7, 1), (326, 7, 1), (326, 1), (6183, 1))"
      ]
     },
     "execution_count": 19,
     "metadata": {},
     "output_type": "execute_result"
    }
   ],
   "source": [
    "x_train=x_train.reshape((-1,lookback,1))\n",
    "x_test=x_test.reshape((-1,lookback,1))\n",
    "y_train=y_train.reshape((-1,1))\n",
    "y_test=y_test.reshape((-1,1))\n",
    "\n",
    "x_train.shape, x_test.shape, y_test.shape, y_train.shape"
   ]
  },
  {
   "cell_type": "code",
   "execution_count": 20,
   "id": "aaeb00ca",
   "metadata": {},
   "outputs": [
    {
     "data": {
      "text/plain": [
       "(torch.Size([6183, 7, 1]),\n",
       " torch.Size([326, 7, 1]),\n",
       " torch.Size([326, 1]),\n",
       " torch.Size([6183, 1]))"
      ]
     },
     "execution_count": 20,
     "metadata": {},
     "output_type": "execute_result"
    }
   ],
   "source": [
    "x_train=torch.tensor(x_train).float()\n",
    "y_train=torch.tensor(y_train).float()\n",
    "x_test=torch.tensor(x_test).float()\n",
    "y_test=torch.tensor(y_test).float()\n",
    "\n",
    "x_train.shape, x_test.shape, y_test.shape, y_train.shape"
   ]
  },
  {
   "cell_type": "code",
   "execution_count": 21,
   "id": "be6fa955",
   "metadata": {},
   "outputs": [],
   "source": [
    "from torch.utils.data import Dataset\n",
    "\n",
    "class TimeSeriesDataset(Dataset):\n",
    "    def __init__(self,x,y):\n",
    "        self.x=x\n",
    "        self.y=y\n",
    "        \n",
    "    def __len__(self):\n",
    "        return len(self.x)\n",
    "    \n",
    "    def __getitem__(self,i):\n",
    "        return self.x[i], self.y[i]\n",
    "    \n",
    "train_dataset=TimeSeriesDataset(x_train,y_train)\n",
    "test_dataset=TimeSeriesDataset(x_test,y_test)"
   ]
  },
  {
   "cell_type": "code",
   "execution_count": 22,
   "id": "f2e8acca",
   "metadata": {},
   "outputs": [],
   "source": [
    "from torch.utils.data import DataLoader\n",
    "batch_size=16\n",
    "\n",
    "train_loader=DataLoader(train_dataset, batch_size=batch_size, shuffle=True)\n",
    "test_loader=DataLoader(test_dataset, batch_size=batch_size, shuffle=False)"
   ]
  },
  {
   "cell_type": "code",
   "execution_count": 23,
   "id": "baad1e26",
   "metadata": {},
   "outputs": [
    {
     "ename": "SyntaxError",
     "evalue": "invalid syntax (1149078732.py, line 1)",
     "output_type": "error",
     "traceback": [
      "\u001b[1;36m  Cell \u001b[1;32mIn [23], line 1\u001b[1;36m\u001b[0m\n\u001b[1;33m    for_,batch in enumerate(train_loader):\u001b[0m\n\u001b[1;37m                                         ^\u001b[0m\n\u001b[1;31mSyntaxError\u001b[0m\u001b[1;31m:\u001b[0m invalid syntax\n"
     ]
    }
   ],
   "source": [
    "for_,batch in enumerate(train_loader):\n",
    "    x_batch,y_batch = batch[0].to(device), batch[1].to(device)\n",
    "    print(x_batch.shape, y_batch.shape)\n",
    "    break"
   ]
  },
  {
   "cell_type": "code",
   "execution_count": 24,
   "id": "af3628b4",
   "metadata": {
    "scrolled": true
   },
   "outputs": [
    {
     "data": {
      "text/plain": [
       "LSTM(\n",
       "  (lstm): LSTM(1, 4, batch_first=True)\n",
       "  (fc): Linear(in_features=4, out_features=1, bias=True)\n",
       ")"
      ]
     },
     "execution_count": 24,
     "metadata": {},
     "output_type": "execute_result"
    }
   ],
   "source": [
    "class LSTM(nn.Module):\n",
    "    def __init__(self,input_size,hidden_size,num_stacked_layers):\n",
    "        super().__init__()\n",
    "        self.hidden_size = hidden_size\n",
    "        self.num_stacked_layers= num_stacked_layers\n",
    "        \n",
    "        self.lstm = nn.LSTM(input_size,hidden_size, num_stacked_layers, batch_first=True)\n",
    "        \n",
    "        self.fc=nn.Linear(hidden_size,1)\n",
    "        \n",
    "    def forward(self,x):\n",
    "        batch_size = x.size(0)\n",
    "        h0 = torch.zeros(self.num_stacked_layers, batch_size, self.hidden_size).to(device)\n",
    "        c0 = torch.zeros(self.num_stacked_layers, batch_size, self.hidden_size).to(device)\n",
    "        out, _ = self.lstm(x,(h0,c0))\n",
    "        out = self.fc(out[:, -1, :])\n",
    "        return out\n",
    "\n",
    "model=LSTM(1,4,1)\n",
    "model.to(device)\n",
    "model"
   ]
  },
  {
   "cell_type": "code",
   "execution_count": 28,
   "id": "0f17c868",
   "metadata": {},
   "outputs": [],
   "source": [
    "def train_one_epoch():\n",
    "    model.train(True)\n",
    "    print(f'Epoch: {epoch+1}')\n",
    "    running_loss=0.0\n",
    "    \n",
    "    for batch_index, batch in enumerate(train_loader):\n",
    "        x_batch,y_batch=batch[0].to(device), batch[1].to(device)\n",
    "        \n",
    "        output=model(x_batch)\n",
    "        loss = loss_function(output, y_batch)\n",
    "        running_loss += loss.item()\n",
    "        optimizer.zero_grad()\n",
    "        loss.backward()\n",
    "        optimizer.step()\n",
    "        \n",
    "        if batch_index % 100 == 99: #print every 100 batches\n",
    "            avg_loss_across_batches = running_loss / 100\n",
    "            print('Batch {0}, Loss:{1:.3f}'. format(batch_index+1,avg_loss_across_batches))\n",
    "            running_loss = 0.0\n",
    "    print()"
   ]
  },
  {
   "cell_type": "code",
   "execution_count": 30,
   "id": "a48397c0",
   "metadata": {},
   "outputs": [],
   "source": [
    "def validate_one_epoch():\n",
    "    model.train(False)\n",
    "    running_loss=0.0\n",
    "    \n",
    "    for batch_index, batch in enumerate(test_loader):\n",
    "        x_batch,y_batch=batch[0].to(device), batch[1].to(device)\n",
    "        \n",
    "        with torch.no_grad():\n",
    "            output=model(x_batch)\n",
    "            loss=loss_function(output,y_batch)\n",
    "            running_loss += loss.item()\n",
    "    avg_loss_across_batches = running_loss/len(test_loader)\n",
    "    \n",
    "    print('Val Loss: {0:.3f}'.format(avg_loss_across_batches))\n",
    "    "
   ]
  },
  {
   "cell_type": "code",
   "execution_count": 31,
   "id": "44230993",
   "metadata": {},
   "outputs": [
    {
     "name": "stdout",
     "output_type": "stream",
     "text": [
      "Epoch: 1\n",
      "Batch 100, Loss:0.004\n",
      "Batch 200, Loss:0.001\n",
      "Batch 300, Loss:0.001\n",
      "\n",
      "Val Loss: 0.005\n",
      "Epoch: 2\n",
      "Batch 100, Loss:0.000\n",
      "Batch 200, Loss:0.000\n",
      "Batch 300, Loss:0.000\n",
      "\n",
      "Val Loss: 0.004\n",
      "Epoch: 3\n",
      "Batch 100, Loss:0.000\n",
      "Batch 200, Loss:0.000\n",
      "Batch 300, Loss:0.000\n",
      "\n",
      "Val Loss: 0.005\n",
      "Epoch: 4\n",
      "Batch 100, Loss:0.000\n",
      "Batch 200, Loss:0.000\n",
      "Batch 300, Loss:0.000\n",
      "\n",
      "Val Loss: 0.004\n",
      "Epoch: 5\n",
      "Batch 100, Loss:0.000\n",
      "Batch 200, Loss:0.000\n",
      "Batch 300, Loss:0.000\n",
      "\n",
      "Val Loss: 0.003\n",
      "Epoch: 6\n",
      "Batch 100, Loss:0.000\n",
      "Batch 200, Loss:0.000\n",
      "Batch 300, Loss:0.000\n",
      "\n",
      "Val Loss: 0.003\n",
      "Epoch: 7\n",
      "Batch 100, Loss:0.000\n",
      "Batch 200, Loss:0.000\n",
      "Batch 300, Loss:0.000\n",
      "\n",
      "Val Loss: 0.003\n",
      "Epoch: 8\n",
      "Batch 100, Loss:0.000\n",
      "Batch 200, Loss:0.000\n",
      "Batch 300, Loss:0.000\n",
      "\n",
      "Val Loss: 0.003\n",
      "Epoch: 9\n",
      "Batch 100, Loss:0.000\n",
      "Batch 200, Loss:0.000\n",
      "Batch 300, Loss:0.000\n",
      "\n",
      "Val Loss: 0.003\n",
      "Epoch: 10\n",
      "Batch 100, Loss:0.000\n",
      "Batch 200, Loss:0.000\n",
      "Batch 300, Loss:0.000\n",
      "\n",
      "Val Loss: 0.003\n"
     ]
    }
   ],
   "source": [
    "learning_rate=0.001\n",
    "num_epochs=10\n",
    "loss_function = nn.MSELoss()\n",
    "optimizer=torch.optim.Adam(model.parameters(), lr=learning_rate)\n",
    "\n",
    "for epoch in range(num_epochs):\n",
    "    train_one_epoch()\n",
    "    validate_one_epoch()"
   ]
  },
  {
   "cell_type": "code",
   "execution_count": 33,
   "id": "70000335",
   "metadata": {},
   "outputs": [
    {
     "data": {
      "image/png": "[encoded data removed]",
      "text/plain": [
       "<Figure size 640x480 with 1 Axes>"
      ]
     },
     "metadata": {},
     "output_type": "display_data"
    }
   ],
   "source": [
    "with torch.no_grad():\n",
    "    predicted=model(x_train.to(device)).to('cpu').numpy()\n",
    "    \n",
    "plt.plot(y_train, label='Actual Close')\n",
    "plt.plot(predicted, label='Predicted Close')\n",
    "plt.xlabel('Day')\n",
    "plt.ylabel('Close')\n",
    "plt.legend()\n",
    "plt.show()\n"
   ]
  },
  {
   "cell_type": "code",
   "execution_count": 34,
   "id": "8ffca6ef",
   "metadata": {},
   "outputs": [
    {
     "data": {
      "text/plain": [
       "array([1.61669406e-01, 1.61991777e-01, 1.61708312e-01, ...,\n",
       "       1.73038212e+02, 1.72202714e+02, 1.72502886e+02])"
      ]
     },
     "execution_count": 34,
     "metadata": {},
     "output_type": "execute_result"
    }
   ],
   "source": [
    "train_predictions= predicted.flatten()\n",
    "\n",
    "dummies =np.zeros((x_train.shape[0], lookback+1))\n",
    "dummies[:,0]=train_predictions\n",
    "dummies=scaler.inverse_transform(dummies)\n",
    "\n",
    "train_predictions = dc(dummies[:,0])\n",
    "train_predictions"
   ]
  },
  {
   "cell_type": "code",
   "execution_count": 37,
   "id": "fa3856a0",
   "metadata": {},
   "outputs": [
    {
     "data": {
      "text/plain": [
       "array([7.91646265e-02, 7.65634249e-02, 7.52572660e-02, ...,\n",
       "       1.69091505e+02, 1.73315001e+02, 1.68871003e+02])"
      ]
     },
     "execution_count": 37,
     "metadata": {},
     "output_type": "execute_result"
    }
   ],
   "source": [
    "dummies =np.zeros((x_train.shape[0], lookback+1))\n",
    "dummies[:,0]=y_train.flatten()\n",
    "dummies=scaler.inverse_transform(dummies)\n",
    "\n",
    "new_y_train= dc(dummies[:,0])\n",
    "new_y_train"
   ]
  },
  {
   "cell_type": "code",
   "execution_count": 38,
   "id": "ee4c710c",
   "metadata": {},
   "outputs": [
    {
     "data": {
      "image/png": "[encoded data removed]",
      "text/plain": [
       "<Figure size 640x480 with 1 Axes>"
      ]
     },
     "metadata": {},
     "output_type": "display_data"
    }
   ],
   "source": [
    "plt.plot(new_y_train, label='Actual Close')\n",
    "plt.plot(train_predictions, label='Predicted Close')\n",
    "plt.xlabel('Day')\n",
    "plt.ylabel('Close')\n",
    "plt.legend()\n",
    "plt.show()"
   ]
  },
  {
   "cell_type": "code",
   "execution_count": 39,
   "id": "9a9ad567",
   "metadata": {},
   "outputs": [],
   "source": [
    "#now the are on the proper scale"
   ]
  },
  {
   "cell_type": "code",
   "execution_count": 41,
   "id": "30e652e6",
   "metadata": {},
   "outputs": [
    {
     "data": {
      "text/plain": [
       "array([171.66427687, 171.32009566, 170.42100255, 170.60552112,\n",
       "       170.96180793, 171.2304209 , 171.08024041, 171.25365385,\n",
       "       171.02841647, 170.70535613, 169.91875943, 170.23107037,\n",
       "       169.80555158, 168.67604092, 167.51283693, 166.48022659,\n",
       "       165.44067971, 165.72301013, 165.9510488 , 165.15306907,\n",
       "       164.83403281, 163.73613676, 162.1488035 , 159.5657325 ,\n",
       "       154.78392358, 151.81588586, 148.26994784, 145.40074466,\n",
       "       143.78120208, 144.32423071, 146.81732126, 149.28116496,\n",
       "       150.88491691, 148.21034253, 152.14566597, 155.03591777,\n",
       "       158.02331999, 160.03610534, 160.84651303, 159.73821217,\n",
       "       159.316673  , 159.09722719, 159.39408654, 158.61373162,\n",
       "       157.47043126, 155.96285707, 153.19481173, 153.14282104,\n",
       "       153.92892862, 154.53677608, 154.34380916, 154.53013412,\n",
       "       153.40896621, 151.80515868, 147.79993072, 144.31125805,\n",
       "       142.96952158, 144.70844708, 145.71174944, 145.36338296,\n",
       "       147.02392781, 150.12258143, 153.56303738, 157.10312825,\n",
       "       159.62692743, 162.35280885, 163.83173647, 164.74984948,\n",
       "       165.54037021, 167.10535981, 168.28862863, 168.35111305,\n",
       "       167.45246459, 166.88026694, 167.66237267, 167.12233431,\n",
       "       165.2158981 , 163.50700869, 161.34565472, 158.74926645,\n",
       "       156.6743135 , 156.64358819, 155.69723437, 155.45347732,\n",
       "       156.97466335, 156.9797268 , 155.22699492, 152.58251777,\n",
       "       151.11431733, 147.90063279, 145.08915628, 145.29198331,\n",
       "       138.64107765, 133.9454252 , 130.61150735, 129.05567197,\n",
       "       124.6100239 , 121.02570705, 116.49970519, 113.65969327,\n",
       "       110.48460434, 109.12954227, 110.86276236, 111.32273596,\n",
       "       113.4924549 , 111.70871425, 110.5367451 , 109.80419559,\n",
       "       109.27780243, 107.58913903, 107.57181158, 109.35881485,\n",
       "       112.19924085, 116.05343793, 119.15555426, 122.60942752,\n",
       "       123.60877805, 125.02882848, 125.17599646, 124.46148306,\n",
       "       121.96490201, 117.69330656, 112.44332582, 108.43284266,\n",
       "       108.02058833, 106.40778498, 106.57033507, 107.82346394,\n",
       "       108.84206781, 110.87322553, 113.73814618, 114.34279215,\n",
       "       112.36347227, 111.52088304, 109.8475684 , 110.03900406,\n",
       "       111.75322926, 113.31488955, 115.18908865, 116.1006653 ,\n",
       "       115.16657269, 113.44536093, 112.6718425 , 112.24080449,\n",
       "       113.13525101, 113.88327989, 116.17174258, 119.47474615,\n",
       "       122.36195765, 123.39164442, 123.47987406, 120.99883352,\n",
       "       121.53430866, 122.35130273, 127.65446915, 131.50840499,\n",
       "       133.72455094, 137.08337475, 140.35489155, 141.85892521,\n",
       "       142.23839495, 141.76629353, 143.02658683, 143.18430969,\n",
       "       144.19415395, 144.79889998, 145.79208099, 145.60466664,\n",
       "       145.4706325 , 143.9293205 , 141.04499923, 139.05205638,\n",
       "       137.73318047, 138.10991006, 136.19441966, 134.56581734,\n",
       "       133.12785864, 131.45245693, 130.67408625, 130.06563296,\n",
       "       129.21623503, 129.96591468, 130.66623818, 132.44125258,\n",
       "       134.82623764, 132.999705  , 132.25625601, 130.83851221,\n",
       "       128.77034573, 127.72864786, 126.1233841 , 123.7507214 ,\n",
       "       121.74596754, 119.07500594, 117.86882097, 116.86146119,\n",
       "       117.67798838, 117.10808622, 116.076682  , 116.51679086,\n",
       "       118.83674032, 120.35934367, 121.11686027, 119.39543173,\n",
       "       117.81984835, 116.12109696, 115.20892559, 114.49607963,\n",
       "       111.91069923, 112.96458884, 114.76360321, 115.51590629,\n",
       "       116.08016694, 118.01092551, 119.48707962, 120.7011071 ,\n",
       "       119.54124353, 116.86893686, 112.04830724, 108.38346707,\n",
       "       103.76386087,  98.99934327,  94.96652201,  93.27805037,\n",
       "        92.26273135,  91.56901367,  89.70038659,  92.84772103,\n",
       "        96.63934198,  98.11859197,  99.15516247,  98.98003157,\n",
       "        97.84191972,  96.70681203,  95.27723499,  94.70573766,\n",
       "        94.7821952 ,  94.61044919,  94.75984043,  94.25198916,\n",
       "        95.59692711,  96.04667654,  95.76205895,  94.28879505,\n",
       "        92.19695097,  90.94224915,  90.94580356,  90.52587347,\n",
       "        90.92161183,  92.02099468,  92.36939173,  91.27909919,\n",
       "        90.29393299,  88.46533829,  87.41434863,  87.43994795,\n",
       "        86.32506906,  86.26439103,  85.3669334 ,  84.32183118,\n",
       "        84.63813979,  84.80805579,  85.69923412,  85.99295453,\n",
       "        85.34125209,  86.10694052,  87.10908122,  88.77172705,\n",
       "        91.94885858,  94.01738357,  96.40300503,  96.95922308,\n",
       "        96.94940465,  96.11766766,  96.95788635,  97.61509272,\n",
       "        97.5555152 ,  97.86567792,  98.88413728, 100.74939614,\n",
       "       101.24110661, 102.54990009, 104.17279143, 108.26502903,\n",
       "       107.10705522, 105.73662772, 104.72909842, 103.21121113,\n",
       "       101.483438  , 100.13467884, 100.15521611, 100.32957443,\n",
       "       101.07745879, 100.38769016,  99.54878041,  97.93262829,\n",
       "        97.36386555,  97.04537399,  95.95411433,  95.40592221,\n",
       "        95.28861802,  94.41867727,  93.85109008,  94.63738108,\n",
       "        94.72257877,  94.69773396,  94.82604879,  94.23333888,\n",
       "        93.21669703,  93.2426618 ,  94.2916686 ,  95.53568771,\n",
       "        97.89731198,  98.96410199,  99.07889669, 100.22589598,\n",
       "       100.13880853, 100.03095871,  99.69093219,  99.43566983,\n",
       "        98.95482548,  99.85385467, 101.17471483, 102.5597991 ,\n",
       "       103.08673418, 103.99656836])"
      ]
     },
     "execution_count": 41,
     "metadata": {},
     "output_type": "execute_result"
    }
   ],
   "source": [
    "test_predictions= model(x_test.to(device)).detach().cpu().numpy().flatten()\n",
    "\n",
    "dummies = np.zeros((x_test.shape[0], lookback+1))\n",
    "dummies[:,0]=test_predictions\n",
    "dummies=scaler.inverse_transform(dummies)\n",
    "\n",
    "test_predictions = dc(dummies[:,0])\n",
    "test_predictions"
   ]
  },
  {
   "cell_type": "code",
   "execution_count": 42,
   "id": "d889698b",
   "metadata": {},
   "outputs": [
    {
     "data": {
      "text/plain": [
       "array([170.01749949, 167.07899763, 170.41700626, 171.03700377,\n",
       "       171.0684961 , 169.66949429, 170.66099675, 169.20100565,\n",
       "       168.64449858, 166.71699707, 170.40449492, 167.52200227,\n",
       "       164.35699578, 163.25399737, 162.55400179, 161.48599177,\n",
       "       165.36199892, 165.20699954, 161.21400501, 162.13799851,\n",
       "       158.91749416, 156.29899568, 151.66749509, 142.64300408,\n",
       "       144.54400445, 139.98599336, 138.87249844, 139.63749627,\n",
       "       143.97799855, 149.57350001, 151.19349835, 150.61250219,\n",
       "       138.84550541, 157.63949825, 157.93550165, 161.41349717,\n",
       "       161.18949925, 159.003495  , 153.29350176, 155.1670061 ,\n",
       "       156.51049894, 158.10049453, 154.6524962 , 152.60149876,\n",
       "       150.19749381, 144.82699629, 151.35800212, 153.78849709,\n",
       "       153.56300403, 151.14199678, 152.05250627, 147.89849848,\n",
       "       145.64100565, 137.45300383, 136.01449488, 139.27900567,\n",
       "       146.81750468, 145.52450739, 141.8529947 , 147.36650272,\n",
       "       153.10400311, 157.23899657, 161.25050521, 161.49149987,\n",
       "       164.8890082 , 163.4080074 , 163.64950785, 164.77349929,\n",
       "       168.99049174, 169.31500275, 166.30099379, 162.99749555,\n",
       "       163.55999984, 168.34649425, 164.05499516, 158.75599734,\n",
       "       157.78449856, 154.4604964 , 151.1219931 , 150.78750525,\n",
       "       155.54100108, 151.70649644, 152.78500575, 158.11549591,\n",
       "       153.99799942, 148.29600432, 144.35000372, 146.07400567,\n",
       "       139.39100462, 138.16700588, 144.59649537, 124.2815027 ,\n",
       "       124.50000086, 124.25350088, 125.92849685, 116.40699847,\n",
       "       114.77249899, 108.78900163, 108.85900063, 105.37200234,\n",
       "       106.93049589, 113.05500005, 110.81050072, 115.36850069,\n",
       "       107.11250358, 107.31900035, 107.59100239, 107.55699918,\n",
       "       104.09999809, 106.77500184, 111.07749906, 115.14649953,\n",
       "       120.20950223, 121.68399725, 125.51100121, 122.34999935,\n",
       "       124.79000149, 122.99999961, 121.18000054, 116.15000198,\n",
       "       109.65000214, 103.66999806, 102.30999829, 107.6699986 ,\n",
       "       103.66000386, 106.22000101, 108.67999989, 108.94999683,\n",
       "       112.44000207, 116.45999935, 113.22000127, 107.40000166,\n",
       "       108.91999825, 106.20999917, 109.55999806, 113.50000006,\n",
       "       114.33000152, 116.3300018 , 115.54000075, 111.74999999,\n",
       "       109.22000073, 110.40000137, 110.62999651, 113.55000232,\n",
       "       113.76000211, 118.20999802, 122.76999614, 124.62999702,\n",
       "       122.41999835, 121.13999873, 114.80999825, 120.97000076,\n",
       "       122.28000035, 134.94999758, 135.38999806, 134.16000488,\n",
       "       139.5200031 , 142.57000925, 140.80000272, 139.41000507,\n",
       "       137.83000298, 142.69000357, 140.64000103, 143.55000084,\n",
       "       143.17999102, 144.7799968 , 142.10000324, 142.30000119,\n",
       "       138.22999608, 133.22000121, 133.61999431, 133.80000247,\n",
       "       137.27999891, 130.7499991 , 129.78999174, 128.72999653,\n",
       "       126.76999668, 127.82000117, 127.51000241, 126.11000014,\n",
       "       129.47999576, 129.82000839, 133.27000486, 136.44999605,\n",
       "       126.82000034, 128.55000227, 126.27999811, 123.52999999,\n",
       "       124.66000532, 122.19000322, 118.54000046, 117.30999894,\n",
       "       113.77999884, 115.15000254, 114.41000376, 118.01000286,\n",
       "       114.80000336, 112.99999964, 115.8799967 , 121.08999508,\n",
       "       120.94999707, 120.30000237, 114.55999805, 113.66999803,\n",
       "       112.2099986 , 112.90000206, 112.5299992 , 106.90000263,\n",
       "       113.79000069, 116.36000038, 115.0700003 , 115.25000012,\n",
       "       119.31999967, 119.82000008, 120.59999928, 115.66000341,\n",
       "       110.95999895, 103.41000365, 102.4400021 ,  96.79000116,\n",
       "        92.12000301,  89.30000302,  90.98000304,  90.52999899,\n",
       "        89.98000291,  86.13999884,  96.62999704, 100.79000101,\n",
       "        98.48999791,  98.94000197,  97.1200029 ,  94.84999805,\n",
       "        94.13999897,  92.45999904,  93.199997  ,  94.12999696,\n",
       "        93.410004  ,  93.94999701,  92.41999801,  96.54000095,\n",
       "        95.50000004,  94.12999696,  91.01000197,  88.24999993,\n",
       "        88.45999902,  90.34999813,  89.08999594,  90.55000302,\n",
       "        92.48999797,  91.58000208,  88.44999683,  87.86000102,\n",
       "        84.91999777,  85.19000167,  86.76999681,  83.79000078,\n",
       "        85.25000022,  83.04000085,  81.81999979,  84.17999969,\n",
       "        83.99999987,  85.82000033,  85.13999871,  83.12000309,\n",
       "        86.08000168,  87.3600013 ,  89.87000314,  95.08999606,\n",
       "        95.26999692,  98.12000304,  96.05000307,  95.45999893,\n",
       "        93.68      ,  97.25000011,  97.51999705,  96.32000002,\n",
       "        97.18000006,  99.22000076, 102.2399979 , 100.55000334,\n",
       "       103.12999722, 105.15000257, 112.9100039 , 103.38999927,\n",
       "       102.18000005, 102.11000105, 100.05000292,  98.23999805,\n",
       "        97.61000113,  99.54000066,  99.69999679, 101.16000387,\n",
       "        98.15000197,  97.19999715,  94.58000197,  95.79000102,\n",
       "        95.81999995,  93.5       ,  93.760002  ,  94.23000296,\n",
       "        92.16999798,  92.12999703,  94.90000205,  93.74999998,\n",
       "        93.55000299,  93.919998  ,  92.25000004,  90.73000301,\n",
       "        92.43000003,  94.87999697,  96.19999701, 100.04000108,\n",
       "        98.94999687,  97.70999906, 100.61000119,  98.69999701,\n",
       "        98.70999885,  98.12999689,  98.04000115,  97.23999792,\n",
       "       100.25000017, 102.00000023, 103.290001  , 102.41000421,\n",
       "       103.94999685, 101.09999768])"
      ]
     },
     "execution_count": 42,
     "metadata": {},
     "output_type": "execute_result"
    }
   ],
   "source": [
    "dummies=np.zeros((x_test.shape[0], lookback+1))\n",
    "dummies[:,0]=y_test.flatten()\n",
    "dummies= scaler.inverse_transform(dummies)\n",
    "\n",
    "new_y_test=dc(dummies[:,0])\n",
    "new_y_test"
   ]
  },
  {
   "cell_type": "code",
   "execution_count": 43,
   "id": "a7be8dee",
   "metadata": {},
   "outputs": [
    {
     "data": {
      "image/png": "[encoded data removed]",
      "text/plain": [
       "<Figure size 640x480 with 1 Axes>"
      ]
     },
     "metadata": {},
     "output_type": "display_data"
    }
   ],
   "source": [
    "plt.plot(new_y_test, label='Actual Close')\n",
    "plt.plot(test_predictions, label='Predicted Close')\n",
    "plt.xlabel('Day')\n",
    "plt.ylabel('Close')\n",
    "plt.legend()\n",
    "plt.show()"
   ]
  },
  {
   "cell_type": "code",
   "execution_count": null,
   "id": "230da719",
   "metadata": {},
   "outputs": [],
   "source": []
  }
 ],
 "metadata": {
  "kernelspec": {
   "display_name": "Python 3 (ipykernel)",
   "language": "python",
   "name": "python3"
  },
  "language_info": {
   "codemirror_mode": {
    "name": "ipython",
    "version": 3
   },
   "file_extension": ".py",
   "mimetype": "text/x-python",
   "name": "python",
   "nbconvert_exporter": "python",
   "pygments_lexer": "ipython3",
   "version": "3.10.6"
  }
 },
 "nbformat": 4,
 "nbformat_minor": 5
}
